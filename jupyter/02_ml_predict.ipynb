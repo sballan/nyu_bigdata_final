{
 "cells": [
  {
   "cell_type": "code",
   "execution_count": 57,
   "source": [
    "from pyspark.sql import SparkSession\n",
    "import pyspark.sql.functions as F\n",
    "\n",
    "# Spark session & context\n",
    "spark = SparkSession.builder.master('local[2]').getOrCreate()\n",
    "sc = spark.sparkContext"
   ],
   "outputs": [],
   "metadata": {
    "collapsed": true
   }
  },
  {
   "cell_type": "markdown",
   "source": [
    "Import libraries for training the ML models"
   ],
   "metadata": {}
  },
  {
   "cell_type": "code",
   "execution_count": 58,
   "source": [
    "from pyspark.ml.linalg import Vector\n",
    "from pyspark.ml.feature import VectorAssembler\n",
    "from pyspark.ml.regression import LinearRegression\n"
   ],
   "outputs": [],
   "metadata": {}
  },
  {
   "cell_type": "markdown",
   "source": [
    "When we read in Time Series data, we need to \"bin\" it appropriately.  \n",
    "\n",
    "We need to decide what to do if we have several values in a bin.  Take the average?  Just pick one?"
   ],
   "metadata": {}
  },
  {
   "cell_type": "code",
   "execution_count": 79,
   "source": [
    "# units are seconds\n",
    "ts_bin_size = 60 * 60 * 24  # Round to nearest day"
   ],
   "outputs": [],
   "metadata": {}
  },
  {
   "cell_type": "markdown",
   "source": [
    "Read the OHLC data"
   ],
   "metadata": {}
  },
  {
   "cell_type": "code",
   "execution_count": 80,
   "source": [
    "bitcoin_price_ohlc_DF = spark.read.csv(\"data/btc/price-ohlc.csv\", inferSchema=True, header=True)\n",
    "bitcoin_price_ohlc_DF = bitcoin_price_ohlc_DF.withColumn(\n",
    "  'ts_bin',\n",
    "  F.round(F.col('time') / ts_bin_size)\n",
    ")\n",
    "bitcoin_price_ohlc_DF.printSchema()\n"
   ],
   "outputs": [
    {
     "output_type": "stream",
     "name": "stdout",
     "text": [
      "root\n",
      " |-- time: integer (nullable = true)\n",
      " |-- open: double (nullable = true)\n",
      " |-- high: double (nullable = true)\n",
      " |-- low: double (nullable = true)\n",
      " |-- close: double (nullable = true)\n",
      " |-- ts_bin: double (nullable = true)\n",
      "\n"
     ]
    }
   ],
   "metadata": {
    "collapsed": true
   }
  },
  {
   "cell_type": "markdown",
   "source": [
    "Next, read in price average data"
   ],
   "metadata": {}
  },
  {
   "cell_type": "code",
   "execution_count": 81,
   "source": [
    "bitcoin_price_DF = spark.read.csv(\"data/btc/price.csv\", inferSchema=True, header=True)\n",
    "bitcoin_price_DF = bitcoin_price_DF.withColumn(\n",
    "  'ts_bin',\n",
    "  F.round(F.col('time') / ts_bin_size)\n",
    ")\n",
    "bitcoin_price_DF.show()\n"
   ],
   "outputs": [
    {
     "output_type": "stream",
     "name": "stdout",
     "text": [
      "+----------+--------------------+-------+\n",
      "|      time|               price| ts_bin|\n",
      "+----------+--------------------+-------+\n",
      "|1279324800|0.049510000000000005|14807.0|\n",
      "|1279411200|             0.08584|14808.0|\n",
      "|1279497600|              0.0808|14809.0|\n",
      "|1279584000| 0.07473333333333332|14810.0|\n",
      "|1279670400|             0.07921|14811.0|\n",
      "|1279756800|            0.055945|14812.0|\n",
      "|1279843200|0.062283333333333336|14813.0|\n",
      "|1279929600|             0.05454|14814.0|\n",
      "|1280016000|              0.0505|14815.0|\n",
      "|1280102400|               0.056|14816.0|\n",
      "|1280188800|0.059844444444444436|14817.0|\n",
      "|1280275200|              0.0589|14818.0|\n",
      "|1280361600| 0.06920000000000001|14819.0|\n",
      "|1280448000| 0.06428333333333333|14820.0|\n",
      "|1280534400|             0.06785|14821.0|\n",
      "|1280620800|              0.0611|14822.0|\n",
      "|1280707200|                0.06|14823.0|\n",
      "|1280793600|                0.06|14824.0|\n",
      "|1280880000|             0.05795|14825.0|\n",
      "|1280966400|               0.061|14826.0|\n",
      "+----------+--------------------+-------+\n",
      "only showing top 20 rows\n",
      "\n"
     ]
    }
   ],
   "metadata": {}
  },
  {
   "cell_type": "markdown",
   "source": [
    "We can do a filtered binned join to join these together, which is necessary because our timestamps don't match perfectly"
   ],
   "metadata": {}
  },
  {
   "cell_type": "code",
   "execution_count": 86,
   "source": [
    "combined = bitcoin_price_ohlc_DF.join(bitcoin_price_DF, bitcoin_price_DF.ts_bin == bitcoin_price_ohlc_DF.ts_bin, 'outer') \\\n",
    "  .select(\n",
    "    bitcoin_price_ohlc_DF.ts_bin, \n",
    "    bitcoin_price_ohlc_DF.time, \n",
    "    bitcoin_price_ohlc_DF.open, \n",
    "    bitcoin_price_ohlc_DF.high, \n",
    "    bitcoin_price_ohlc_DF.low, \n",
    "    bitcoin_price_ohlc_DF.close, \n",
    "    bitcoin_price_DF.price\n",
    "    ) \\\n",
    "  .sort(F.desc(\"time\"))\n",
    "combined.show()\n"
   ],
   "outputs": [
    {
     "output_type": "stream",
     "name": "stderr",
     "text": []
    },
    {
     "output_type": "stream",
     "name": "stdout",
     "text": [
      "+-------+----------+------------------+------------------+------------------+------------------+-----------------+\n",
      "| ts_bin|      time|              open|              high|               low|             close|            price|\n",
      "+-------+----------+------------------+------------------+------------------+------------------+-----------------+\n",
      "|18854.0|1628974800| 46668.83774568702| 46965.60043761734| 46668.83774568702| 46964.97673474165|47064.63037062539|\n",
      "|18854.0|1628971200| 46960.97859652031| 46960.97859652031| 46470.37578089779|46643.653869476926|47064.63037062539|\n",
      "|18854.0|1628967600| 46813.46205343097| 47197.36698996014| 46743.07533589857| 47100.35193816682|47064.63037062539|\n",
      "|18854.0|1628964000|46766.090294525704| 46888.86115153998| 46743.92350332929|46788.203789445164|47064.63037062539|\n",
      "|18854.0|1628960400| 46867.31940322104| 46901.71011400429| 46685.60557153721|46816.264954585626|47064.63037062539|\n",
      "|18854.0|1628956800|46949.914611995395|46949.914611995395|   46760.258125276| 46927.20418500741|47064.63037062539|\n",
      "|18854.0|1628953200| 46909.43800001956| 46947.58893947315| 46874.77421675289| 46922.37037893322|47064.63037062539|\n",
      "|18854.0|1628949600|46472.986613963774| 46949.02662775422|46472.986613963774| 46949.02662775422|47064.63037062539|\n",
      "|18854.0|1628946000|46386.253146215386|46493.133533017724|  46263.9656656989|46493.133533017724|47064.63037062539|\n",
      "|18854.0|1628942400| 46444.23885255828| 46444.23885255828| 46286.93830341587| 46286.93830341587|47064.63037062539|\n",
      "|18853.0|1628938800| 46265.65885438362| 46444.23885255828| 46239.31600280007| 46444.23885255828|47096.94566198037|\n",
      "|18853.0|1628935200|47659.707485147504|47659.707485147504| 46285.80232443767| 46285.80232443767|47096.94566198037|\n",
      "|18853.0|1628931600|47659.707485147504|47659.707485147504|47659.707485147504|47659.707485147504|47096.94566198037|\n",
      "|18853.0|1628928000|47643.851897882094| 47672.80187541841| 47605.50948016372| 47635.07980646537|47096.94566198037|\n",
      "|18853.0|1628924400|47527.714742913966|47741.132989090765|47527.714742913966| 47640.55990079683|47096.94566198037|\n",
      "|18853.0|1628920800| 47530.35747217691|47655.552969012875| 47530.35747217691| 47543.76830599432|47096.94566198037|\n",
      "|18853.0|1628917200|47487.487696311895| 47580.82345303877|47487.487696311895| 47550.01869248815|47096.94566198037|\n",
      "|18853.0|1628913600| 47506.34948369392|  47660.3927192969| 47457.87652115333| 47485.88848642705|47096.94566198037|\n",
      "|18853.0|1628910000|47558.764989866795| 47583.91338404159|47483.563379967556| 47554.82879056235|47096.94566198037|\n",
      "|18853.0|1628906400| 47568.30427184122| 47608.15741916593|47480.517917333455| 47585.50044035356|47096.94566198037|\n",
      "+-------+----------+------------------+------------------+------------------+------------------+-----------------+\n",
      "only showing top 20 rows\n",
      "\n"
     ]
    },
    {
     "output_type": "stream",
     "name": "stderr",
     "text": []
    }
   ],
   "metadata": {}
  },
  {
   "cell_type": "code",
   "execution_count": 92,
   "source": [
    "feature_assembler = VectorAssembler(inputCols=[\"time\", \"open\", \"high\", \"low\", \"close\"], outputCol='VFeatures', handleInvalid='skip')\n",
    "output = feature_assembler.transform(combined)\n",
    "output.limit(2).show()"
   ],
   "outputs": [
    {
     "output_type": "stream",
     "name": "stdout",
     "text": [
      "+-------+----------+-----------------+-----------------+-----------------+------------------+-----------------+--------------------+\n",
      "| ts_bin|      time|             open|             high|              low|             close|            price|           VFeatures|\n",
      "+-------+----------+-----------------+-----------------+-----------------+------------------+-----------------+--------------------+\n",
      "|18854.0|1628974800|46668.83774568702|46965.60043761734|46668.83774568702| 46964.97673474165|47064.63037062539|[1.6289748E9,4666...|\n",
      "|18854.0|1628971200|46960.97859652031|46960.97859652031|46470.37578089779|46643.653869476926|47064.63037062539|[1.6289712E9,4696...|\n",
      "+-------+----------+-----------------+-----------------+-----------------+------------------+-----------------+--------------------+\n",
      "\n"
     ]
    }
   ],
   "metadata": {}
  },
  {
   "cell_type": "code",
   "execution_count": 103,
   "source": [
    "traindata, testdata = output.randomSplit([0.75, 0.25])\n",
    "regressor = LinearRegression(featuresCol='VFeatures', labelCol='price')\n",
    "regressor = regressor.fit(traindata)"
   ],
   "outputs": [
    {
     "output_type": "stream",
     "name": "stderr",
     "text": [
      "21/08/20 18:03:47 WARN Instrumentation: [8041a5b7] regParam is zero, which might cause numerical instability and overfitting.\n"
     ]
    }
   ],
   "metadata": {}
  },
  {
   "cell_type": "code",
   "execution_count": 104,
   "source": [
    "regressor.coefficients"
   ],
   "outputs": [
    {
     "output_type": "execute_result",
     "data": {
      "text/plain": [
       "DenseVector([0.0, -0.2296, 0.5643, -0.0469, 0.7099])"
      ]
     },
     "metadata": {},
     "execution_count": 104
    }
   ],
   "metadata": {}
  },
  {
   "cell_type": "code",
   "execution_count": 105,
   "source": [
    "pred = regressor.evaluate(testdata)"
   ],
   "outputs": [
    {
     "output_type": "stream",
     "name": "stderr",
     "text": []
    }
   ],
   "metadata": {}
  },
  {
   "cell_type": "code",
   "execution_count": 117,
   "source": [],
   "outputs": [
    {
     "output_type": "error",
     "ename": "Py4JJavaError",
     "evalue": "An error occurred while calling o932.pValues.\n: java.lang.UnsupportedOperationException: No p-value available for this LinearRegressionModel\n\tat org.apache.spark.ml.regression.LinearRegressionSummary.pValues$lzycompute(LinearRegression.scala:1067)\n\tat org.apache.spark.ml.regression.LinearRegressionSummary.pValues(LinearRegression.scala:1064)\n\tat java.base/jdk.internal.reflect.NativeMethodAccessorImpl.invoke0(Native Method)\n\tat java.base/jdk.internal.reflect.NativeMethodAccessorImpl.invoke(NativeMethodAccessorImpl.java:62)\n\tat java.base/jdk.internal.reflect.DelegatingMethodAccessorImpl.invoke(DelegatingMethodAccessorImpl.java:43)\n\tat java.base/java.lang.reflect.Method.invoke(Method.java:566)\n\tat py4j.reflection.MethodInvoker.invoke(MethodInvoker.java:244)\n\tat py4j.reflection.ReflectionEngine.invoke(ReflectionEngine.java:357)\n\tat py4j.Gateway.invoke(Gateway.java:282)\n\tat py4j.commands.AbstractCommand.invokeMethod(AbstractCommand.java:132)\n\tat py4j.commands.CallCommand.execute(CallCommand.java:79)\n\tat py4j.GatewayConnection.run(GatewayConnection.java:238)\n\tat java.base/java.lang.Thread.run(Thread.java:829)\n",
     "traceback": [
      "\u001b[0;31m---------------------------------------------------------------------------\u001b[0m",
      "\u001b[0;31mPy4JJavaError\u001b[0m                             Traceback (most recent call last)",
      "\u001b[0;32m/tmp/ipykernel_48/3285440037.py\u001b[0m in \u001b[0;36m<module>\u001b[0;34m\u001b[0m\n\u001b[0;32m----> 1\u001b[0;31m \u001b[0mpred\u001b[0m\u001b[0;34m.\u001b[0m\u001b[0mpValues\u001b[0m\u001b[0;34m\u001b[0m\u001b[0;34m\u001b[0m\u001b[0m\n\u001b[0m",
      "\u001b[0;32m/usr/local/spark/python/pyspark/ml/regression.py\u001b[0m in \u001b[0;36mpValues\u001b[0;34m(self)\u001b[0m\n\u001b[1;32m    600\u001b[0m         \u001b[0mLinearRegression\u001b[0m\u001b[0;34m.\u001b[0m\u001b[0msolver\u001b[0m\u001b[0;34m\u001b[0m\u001b[0;34m\u001b[0m\u001b[0m\n\u001b[1;32m    601\u001b[0m         \"\"\"\n\u001b[0;32m--> 602\u001b[0;31m         \u001b[0;32mreturn\u001b[0m \u001b[0mself\u001b[0m\u001b[0;34m.\u001b[0m\u001b[0m_call_java\u001b[0m\u001b[0;34m(\u001b[0m\u001b[0;34m\"pValues\"\u001b[0m\u001b[0;34m)\u001b[0m\u001b[0;34m\u001b[0m\u001b[0;34m\u001b[0m\u001b[0m\n\u001b[0m\u001b[1;32m    603\u001b[0m \u001b[0;34m\u001b[0m\u001b[0m\n\u001b[1;32m    604\u001b[0m \u001b[0;34m\u001b[0m\u001b[0m\n",
      "\u001b[0;32m/usr/local/spark/python/pyspark/ml/wrapper.py\u001b[0m in \u001b[0;36m_call_java\u001b[0;34m(self, name, *args)\u001b[0m\n\u001b[1;32m     52\u001b[0m         \u001b[0msc\u001b[0m \u001b[0;34m=\u001b[0m \u001b[0mSparkContext\u001b[0m\u001b[0;34m.\u001b[0m\u001b[0m_active_spark_context\u001b[0m\u001b[0;34m\u001b[0m\u001b[0;34m\u001b[0m\u001b[0m\n\u001b[1;32m     53\u001b[0m         \u001b[0mjava_args\u001b[0m \u001b[0;34m=\u001b[0m \u001b[0;34m[\u001b[0m\u001b[0m_py2java\u001b[0m\u001b[0;34m(\u001b[0m\u001b[0msc\u001b[0m\u001b[0;34m,\u001b[0m \u001b[0marg\u001b[0m\u001b[0;34m)\u001b[0m \u001b[0;32mfor\u001b[0m \u001b[0marg\u001b[0m \u001b[0;32min\u001b[0m \u001b[0margs\u001b[0m\u001b[0;34m]\u001b[0m\u001b[0;34m\u001b[0m\u001b[0;34m\u001b[0m\u001b[0m\n\u001b[0;32m---> 54\u001b[0;31m         \u001b[0;32mreturn\u001b[0m \u001b[0m_java2py\u001b[0m\u001b[0;34m(\u001b[0m\u001b[0msc\u001b[0m\u001b[0;34m,\u001b[0m \u001b[0mm\u001b[0m\u001b[0;34m(\u001b[0m\u001b[0;34m*\u001b[0m\u001b[0mjava_args\u001b[0m\u001b[0;34m)\u001b[0m\u001b[0;34m)\u001b[0m\u001b[0;34m\u001b[0m\u001b[0;34m\u001b[0m\u001b[0m\n\u001b[0m\u001b[1;32m     55\u001b[0m \u001b[0;34m\u001b[0m\u001b[0m\n\u001b[1;32m     56\u001b[0m     \u001b[0;34m@\u001b[0m\u001b[0mstaticmethod\u001b[0m\u001b[0;34m\u001b[0m\u001b[0;34m\u001b[0m\u001b[0m\n",
      "\u001b[0;32m/usr/local/spark/python/lib/py4j-0.10.9-src.zip/py4j/java_gateway.py\u001b[0m in \u001b[0;36m__call__\u001b[0;34m(self, *args)\u001b[0m\n\u001b[1;32m   1302\u001b[0m \u001b[0;34m\u001b[0m\u001b[0m\n\u001b[1;32m   1303\u001b[0m         \u001b[0manswer\u001b[0m \u001b[0;34m=\u001b[0m \u001b[0mself\u001b[0m\u001b[0;34m.\u001b[0m\u001b[0mgateway_client\u001b[0m\u001b[0;34m.\u001b[0m\u001b[0msend_command\u001b[0m\u001b[0;34m(\u001b[0m\u001b[0mcommand\u001b[0m\u001b[0;34m)\u001b[0m\u001b[0;34m\u001b[0m\u001b[0;34m\u001b[0m\u001b[0m\n\u001b[0;32m-> 1304\u001b[0;31m         return_value = get_return_value(\n\u001b[0m\u001b[1;32m   1305\u001b[0m             answer, self.gateway_client, self.target_id, self.name)\n\u001b[1;32m   1306\u001b[0m \u001b[0;34m\u001b[0m\u001b[0m\n",
      "\u001b[0;32m/usr/local/spark/python/pyspark/sql/utils.py\u001b[0m in \u001b[0;36mdeco\u001b[0;34m(*a, **kw)\u001b[0m\n\u001b[1;32m    109\u001b[0m     \u001b[0;32mdef\u001b[0m \u001b[0mdeco\u001b[0m\u001b[0;34m(\u001b[0m\u001b[0;34m*\u001b[0m\u001b[0ma\u001b[0m\u001b[0;34m,\u001b[0m \u001b[0;34m**\u001b[0m\u001b[0mkw\u001b[0m\u001b[0;34m)\u001b[0m\u001b[0;34m:\u001b[0m\u001b[0;34m\u001b[0m\u001b[0;34m\u001b[0m\u001b[0m\n\u001b[1;32m    110\u001b[0m         \u001b[0;32mtry\u001b[0m\u001b[0;34m:\u001b[0m\u001b[0;34m\u001b[0m\u001b[0;34m\u001b[0m\u001b[0m\n\u001b[0;32m--> 111\u001b[0;31m             \u001b[0;32mreturn\u001b[0m \u001b[0mf\u001b[0m\u001b[0;34m(\u001b[0m\u001b[0;34m*\u001b[0m\u001b[0ma\u001b[0m\u001b[0;34m,\u001b[0m \u001b[0;34m**\u001b[0m\u001b[0mkw\u001b[0m\u001b[0;34m)\u001b[0m\u001b[0;34m\u001b[0m\u001b[0;34m\u001b[0m\u001b[0m\n\u001b[0m\u001b[1;32m    112\u001b[0m         \u001b[0;32mexcept\u001b[0m \u001b[0mpy4j\u001b[0m\u001b[0;34m.\u001b[0m\u001b[0mprotocol\u001b[0m\u001b[0;34m.\u001b[0m\u001b[0mPy4JJavaError\u001b[0m \u001b[0;32mas\u001b[0m \u001b[0me\u001b[0m\u001b[0;34m:\u001b[0m\u001b[0;34m\u001b[0m\u001b[0;34m\u001b[0m\u001b[0m\n\u001b[1;32m    113\u001b[0m             \u001b[0mconverted\u001b[0m \u001b[0;34m=\u001b[0m \u001b[0mconvert_exception\u001b[0m\u001b[0;34m(\u001b[0m\u001b[0me\u001b[0m\u001b[0;34m.\u001b[0m\u001b[0mjava_exception\u001b[0m\u001b[0;34m)\u001b[0m\u001b[0;34m\u001b[0m\u001b[0;34m\u001b[0m\u001b[0m\n",
      "\u001b[0;32m/usr/local/spark/python/lib/py4j-0.10.9-src.zip/py4j/protocol.py\u001b[0m in \u001b[0;36mget_return_value\u001b[0;34m(answer, gateway_client, target_id, name)\u001b[0m\n\u001b[1;32m    324\u001b[0m             \u001b[0mvalue\u001b[0m \u001b[0;34m=\u001b[0m \u001b[0mOUTPUT_CONVERTER\u001b[0m\u001b[0;34m[\u001b[0m\u001b[0mtype\u001b[0m\u001b[0;34m]\u001b[0m\u001b[0;34m(\u001b[0m\u001b[0manswer\u001b[0m\u001b[0;34m[\u001b[0m\u001b[0;36m2\u001b[0m\u001b[0;34m:\u001b[0m\u001b[0;34m]\u001b[0m\u001b[0;34m,\u001b[0m \u001b[0mgateway_client\u001b[0m\u001b[0;34m)\u001b[0m\u001b[0;34m\u001b[0m\u001b[0;34m\u001b[0m\u001b[0m\n\u001b[1;32m    325\u001b[0m             \u001b[0;32mif\u001b[0m \u001b[0manswer\u001b[0m\u001b[0;34m[\u001b[0m\u001b[0;36m1\u001b[0m\u001b[0;34m]\u001b[0m \u001b[0;34m==\u001b[0m \u001b[0mREFERENCE_TYPE\u001b[0m\u001b[0;34m:\u001b[0m\u001b[0;34m\u001b[0m\u001b[0;34m\u001b[0m\u001b[0m\n\u001b[0;32m--> 326\u001b[0;31m                 raise Py4JJavaError(\n\u001b[0m\u001b[1;32m    327\u001b[0m                     \u001b[0;34m\"An error occurred while calling {0}{1}{2}.\\n\"\u001b[0m\u001b[0;34m.\u001b[0m\u001b[0;34m\u001b[0m\u001b[0;34m\u001b[0m\u001b[0m\n\u001b[1;32m    328\u001b[0m                     format(target_id, \".\", name), value)\n",
      "\u001b[0;31mPy4JJavaError\u001b[0m: An error occurred while calling o932.pValues.\n: java.lang.UnsupportedOperationException: No p-value available for this LinearRegressionModel\n\tat org.apache.spark.ml.regression.LinearRegressionSummary.pValues$lzycompute(LinearRegression.scala:1067)\n\tat org.apache.spark.ml.regression.LinearRegressionSummary.pValues(LinearRegression.scala:1064)\n\tat java.base/jdk.internal.reflect.NativeMethodAccessorImpl.invoke0(Native Method)\n\tat java.base/jdk.internal.reflect.NativeMethodAccessorImpl.invoke(NativeMethodAccessorImpl.java:62)\n\tat java.base/jdk.internal.reflect.DelegatingMethodAccessorImpl.invoke(DelegatingMethodAccessorImpl.java:43)\n\tat java.base/java.lang.reflect.Method.invoke(Method.java:566)\n\tat py4j.reflection.MethodInvoker.invoke(MethodInvoker.java:244)\n\tat py4j.reflection.ReflectionEngine.invoke(ReflectionEngine.java:357)\n\tat py4j.Gateway.invoke(Gateway.java:282)\n\tat py4j.commands.AbstractCommand.invokeMethod(AbstractCommand.java:132)\n\tat py4j.commands.CallCommand.execute(CallCommand.java:79)\n\tat py4j.GatewayConnection.run(GatewayConnection.java:238)\n\tat java.base/java.lang.Thread.run(Thread.java:829)\n"
     ]
    }
   ],
   "metadata": {}
  }
 ],
 "metadata": {
  "kernelspec": {
   "display_name": "Python 3 (ipykernel)",
   "language": "python",
   "name": "python3"
  },
  "language_info": {
   "name": "python",
   "version": "3.9.5",
   "mimetype": "text/x-python",
   "codemirror_mode": {
    "name": "ipython",
    "version": 3
   },
   "pygments_lexer": "ipython3",
   "nbconvert_exporter": "python",
   "file_extension": ".py"
  }
 },
 "nbformat": 4,
 "nbformat_minor": 5
}