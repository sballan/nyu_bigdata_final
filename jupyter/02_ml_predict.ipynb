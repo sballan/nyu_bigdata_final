{
 "cells": [
  {
   "cell_type": "code",
   "execution_count": 57,
   "source": [
    "from pyspark.sql import SparkSession\n",
    "import pyspark.sql.functions as F\n",
    "\n",
    "# Spark session & context\n",
    "spark = SparkSession.builder.master('local[2]').getOrCreate()\n",
    "sc = spark.sparkContext"
   ],
   "outputs": [],
   "metadata": {
    "collapsed": true
   }
  },
  {
   "cell_type": "markdown",
   "source": [
    "Import libraries for training the ML models"
   ],
   "metadata": {}
  },
  {
   "cell_type": "code",
   "execution_count": 58,
   "source": [
    "from pyspark.ml.linalg import Vector\n",
    "from pyspark.ml.feature import VectorAssembler\n",
    "from pyspark.ml.regression import LinearRegression\n"
   ],
   "outputs": [],
   "metadata": {}
  },
  {
   "cell_type": "markdown",
   "source": [
    "When we read in Time Series data, we need to \"bin\" it appropriately.  \n",
    "\n",
    "We need to decide what to do if we have several values in a bin.  Take the average?  Just pick one?"
   ],
   "metadata": {}
  },
  {
   "cell_type": "code",
   "execution_count": 79,
   "source": [
    "# units are seconds\n",
    "ts_bin_size = 60 * 60 * 24  # Round to nearest day"
   ],
   "outputs": [],
   "metadata": {}
  },
  {
   "cell_type": "markdown",
   "source": [
    "Read the OHLC data"
   ],
   "metadata": {}
  },
  {
   "cell_type": "code",
   "execution_count": 80,
   "source": [
    "bitcoin_price_ohlc_DF = spark.read.csv(\"data/btc/price-ohlc.csv\", inferSchema=True, header=True)\n",
    "bitcoin_price_ohlc_DF = bitcoin_price_ohlc_DF.withColumn(\n",
    "  'ts_bin',\n",
    "  F.round(F.col('time') / ts_bin_size)\n",
    ")\n",
    "bitcoin_price_ohlc_DF.printSchema()\n"
   ],
   "outputs": [
    {
     "output_type": "stream",
     "name": "stdout",
     "text": [
      "root\n",
      " |-- time: integer (nullable = true)\n",
      " |-- open: double (nullable = true)\n",
      " |-- high: double (nullable = true)\n",
      " |-- low: double (nullable = true)\n",
      " |-- close: double (nullable = true)\n",
      " |-- ts_bin: double (nullable = true)\n",
      "\n"
     ]
    }
   ],
   "metadata": {
    "collapsed": true
   }
  },
  {
   "cell_type": "code",
   "execution_count": 125,
   "source": [
    "bitcoin_market_cap_DF = spark.read.csv(\"data/btc/market-cap.csv\", inferSchema=True, header=True)\n",
    "bitcoin_market_cap_DF = bitcoin_market_cap_DF.withColumn(\n",
    "  'ts_bin',\n",
    "  F.round(F.col('time') / ts_bin_size)\n",
    ")\n",
    "bitcoin_market_cap_DF.sort(F.desc('time')).limit(1).show()"
   ],
   "outputs": [
    {
     "output_type": "stream",
     "name": "stdout",
     "text": [
      "+----------+--------------------+-------+\n",
      "|      time|           marketcap| ts_bin|\n",
      "+----------+--------------------+-------+\n",
      "|1629331200|8.497396385194412E11|18858.0|\n",
      "+----------+--------------------+-------+\n",
      "\n"
     ]
    }
   ],
   "metadata": {}
  },
  {
   "cell_type": "code",
   "execution_count": 124,
   "source": [
    "bitcoin_transaction_count_DF = spark.read.csv(\"data/btc/transaction-count.csv\", inferSchema=True, header=True)\n",
    "bitcoin_transaction_count_DF = bitcoin_transaction_count_DF.withColumn(\n",
    "  'ts_bin',\n",
    "  F.round(F.col('time') / ts_bin_size)\n",
    ")\n",
    "bitcoin_transaction_count_DF.sort(F.desc('time')).limit(1).show()"
   ],
   "outputs": [
    {
     "output_type": "stream",
     "name": "stdout",
     "text": [
      "+----------+-----------------+-------+\n",
      "|      time|transaction_count| ts_bin|\n",
      "+----------+-----------------+-------+\n",
      "|1629331200|           253293|18858.0|\n",
      "+----------+-----------------+-------+\n",
      "\n"
     ]
    }
   ],
   "metadata": {}
  },
  {
   "cell_type": "markdown",
   "source": [
    "Next, read in price average data"
   ],
   "metadata": {}
  },
  {
   "cell_type": "code",
   "execution_count": 126,
   "source": [
    "bitcoin_price_DF = spark.read.csv(\"data/btc/price.csv\", inferSchema=True, header=True)\n",
    "bitcoin_price_DF = bitcoin_price_DF.withColumn(\n",
    "  'ts_bin',\n",
    "  F.round(F.col('time') / ts_bin_size)\n",
    ")\n",
    "bitcoin_price_DF.show()\n"
   ],
   "outputs": [
    {
     "output_type": "stream",
     "name": "stdout",
     "text": [
      "+----------+--------------------+-------+\n",
      "|      time|               price| ts_bin|\n",
      "+----------+--------------------+-------+\n",
      "|1279324800|0.049510000000000005|14807.0|\n",
      "|1279411200|             0.08584|14808.0|\n",
      "|1279497600|              0.0808|14809.0|\n",
      "|1279584000| 0.07473333333333332|14810.0|\n",
      "|1279670400|             0.07921|14811.0|\n",
      "|1279756800|            0.055945|14812.0|\n",
      "|1279843200|0.062283333333333336|14813.0|\n",
      "|1279929600|             0.05454|14814.0|\n",
      "|1280016000|              0.0505|14815.0|\n",
      "|1280102400|               0.056|14816.0|\n",
      "|1280188800|0.059844444444444436|14817.0|\n",
      "|1280275200|              0.0589|14818.0|\n",
      "|1280361600| 0.06920000000000001|14819.0|\n",
      "|1280448000| 0.06428333333333333|14820.0|\n",
      "|1280534400|             0.06785|14821.0|\n",
      "|1280620800|              0.0611|14822.0|\n",
      "|1280707200|                0.06|14823.0|\n",
      "|1280793600|                0.06|14824.0|\n",
      "|1280880000|             0.05795|14825.0|\n",
      "|1280966400|               0.061|14826.0|\n",
      "+----------+--------------------+-------+\n",
      "only showing top 20 rows\n",
      "\n"
     ]
    }
   ],
   "metadata": {}
  },
  {
   "cell_type": "markdown",
   "source": [
    "We can do a filtered binned join to join these together, which is necessary because our timestamps don't match perfectly"
   ],
   "metadata": {}
  },
  {
   "cell_type": "code",
   "execution_count": 127,
   "source": [
    "combined = bitcoin_price_DF.join(bitcoin_transaction_count_DF, bitcoin_price_DF.ts_bin == bitcoin_transaction_count_DF.ts_bin, 'outer') \\\n",
    "  .select(\n",
    "    bitcoin_price_DF.ts_bin, \n",
    "    bitcoin_price_DF.time, \n",
    "    bitcoin_transaction_count_DF.transaction_count,\n",
    "    bitcoin_price_DF.price\n",
    "    ) \\\n",
    "  .sort(F.desc(\"time\"))\n",
    "combined.show()\n"
   ],
   "outputs": [
    {
     "output_type": "stream",
     "name": "stderr",
     "text": []
    },
    {
     "output_type": "stream",
     "name": "stdout",
     "text": [
      "+-------+----------+-----------------+------------------+\n",
      "| ts_bin|      time|transaction_count|             price|\n",
      "+-------+----------+-----------------+------------------+\n",
      "|18859.0|1629417600|             null| 47151.67413602592|\n",
      "|18858.0|1629331200|           253293|46717.578745203784|\n",
      "|18857.0|1629244800|           247198| 44801.18871714413|\n",
      "|18856.0|1629158400|           257594| 44695.35761921304|\n",
      "|18855.0|1629072000|           263368|46004.484078602196|\n",
      "|18854.0|1628985600|           186057| 47064.63037062539|\n",
      "|18853.0|1628899200|           208910| 47096.94566198037|\n",
      "|18852.0|1628812800|           260482| 47831.97604291269|\n",
      "|18851.0|1628726400|           250810|44428.288466806436|\n",
      "|18850.0|1628640000|           262290| 45593.63593070519|\n",
      "|18849.0|1628553600|           260803| 45594.07627236636|\n",
      "|18848.0|1628467200|           252508| 46284.97398221619|\n",
      "|18847.0|1628380800|           191465| 43785.48181939978|\n",
      "|18846.0|1628294400|           212062| 44689.86095932558|\n",
      "|18845.0|1628208000|           260651|  42826.8312632613|\n",
      "|18844.0|1628121600|           246015|40854.599720736376|\n",
      "|18843.0|1628035200|           239460|39799.303765271405|\n",
      "|18842.0|1627948800|           246029|38160.716653116004|\n",
      "|18841.0|1627862400|           239134| 39183.67244883457|\n",
      "|18840.0|1627776000|           185003| 40135.33200074718|\n",
      "+-------+----------+-----------------+------------------+\n",
      "only showing top 20 rows\n",
      "\n"
     ]
    }
   ],
   "metadata": {}
  },
  {
   "cell_type": "code",
   "execution_count": 128,
   "source": [
    "feature_assembler = VectorAssembler(inputCols=[\"time\", \"transaction_count\"], outputCol='VFeatures', handleInvalid='skip')\n",
    "output = feature_assembler.transform(combined)\n",
    "output.limit(2).show()"
   ],
   "outputs": [
    {
     "output_type": "stream",
     "name": "stderr",
     "text": []
    },
    {
     "output_type": "stream",
     "name": "stdout",
     "text": [
      "+-------+----------+-----------------+------------------+--------------------+\n",
      "| ts_bin|      time|transaction_count|             price|           VFeatures|\n",
      "+-------+----------+-----------------+------------------+--------------------+\n",
      "|18858.0|1629331200|           253293|46717.578745203784|[1.6293312E9,2532...|\n",
      "|18857.0|1629244800|           247198| 44801.18871714413|[1.6292448E9,2471...|\n",
      "+-------+----------+-----------------+------------------+--------------------+\n",
      "\n"
     ]
    },
    {
     "output_type": "stream",
     "name": "stderr",
     "text": []
    }
   ],
   "metadata": {}
  },
  {
   "cell_type": "code",
   "execution_count": 129,
   "source": [
    "traindata, testdata = output.randomSplit([0.75, 0.25])\n",
    "regressor = LinearRegression(featuresCol='VFeatures', labelCol='price')\n",
    "regressor = regressor.fit(traindata)"
   ],
   "outputs": [
    {
     "output_type": "stream",
     "name": "stderr",
     "text": [
      "21/08/20 23:02:37 WARN Instrumentation: [284e18c9] regParam is zero, which might cause numerical instability and overfitting.\n"
     ]
    }
   ],
   "metadata": {}
  },
  {
   "cell_type": "code",
   "execution_count": 130,
   "source": [
    "regressor.coefficients"
   ],
   "outputs": [
    {
     "output_type": "execute_result",
     "data": {
      "text/plain": [
       "DenseVector([0.0001, -0.0573])"
      ]
     },
     "metadata": {},
     "execution_count": 130
    }
   ],
   "metadata": {}
  },
  {
   "cell_type": "code",
   "execution_count": 131,
   "source": [
    "pred = regressor.evaluate(testdata)"
   ],
   "outputs": [
    {
     "output_type": "stream",
     "name": "stderr",
     "text": []
    }
   ],
   "metadata": {}
  },
  {
   "cell_type": "code",
   "execution_count": 141,
   "source": [
    "print(\"\"\"\n",
    "  Features Column: %s\n",
    "  Label Column: %s\n",
    "  Explained Variance: %s\n",
    "  r Squared %s\n",
    "  r Squared (adjusted) %s\n",
    "\"\"\" % (\n",
    "  pred.featuresCol,\n",
    "  pred.labelCol,\n",
    "  pred.explainedVariance,\n",
    "  pred.r2,\n",
    "  pred.r2adj\n",
    "))\n",
    "\n",
    "pred.r2\n",
    "pred.r2adj\n",
    "\n",
    "pred.predictions.show()\n"
   ],
   "outputs": [
    {
     "output_type": "stream",
     "name": "stdout",
     "text": [
      "\n",
      "  Features Column: VFeatures\n",
      "  Label Column: price\n",
      "  Explained Variance: 58598254.485269256\n",
      "  r Squared 0.4993382328797972\n",
      "  r Squared (adjusted) 0.49829409989310225\n",
      "\n"
     ]
    },
    {
     "output_type": "stream",
     "name": "stderr",
     "text": []
    }
   ],
   "metadata": {}
  }
 ],
 "metadata": {
  "kernelspec": {
   "display_name": "Python 3 (ipykernel)",
   "language": "python",
   "name": "python3"
  },
  "language_info": {
   "name": "python",
   "version": "3.9.5",
   "mimetype": "text/x-python",
   "codemirror_mode": {
    "name": "ipython",
    "version": 3
   },
   "pygments_lexer": "ipython3",
   "nbconvert_exporter": "python",
   "file_extension": ".py"
  }
 },
 "nbformat": 4,
 "nbformat_minor": 5
}