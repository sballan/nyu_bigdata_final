{
 "cells": [
  {
   "cell_type": "code",
   "execution_count": 57,
   "source": [
    "from pyspark.sql import SparkSession\n",
    "import pyspark.sql.functions as F\n",
    "\n",
    "# Spark session & context\n",
    "spark = SparkSession.builder.master('local[2]').getOrCreate()\n",
    "sc = spark.sparkContext"
   ],
   "outputs": [],
   "metadata": {
    "collapsed": true
   }
  },
  {
   "cell_type": "markdown",
   "source": [
    "Import libraries for training the ML models"
   ],
   "metadata": {}
  },
  {
   "cell_type": "code",
   "execution_count": 58,
   "source": [
    "from pyspark.ml.linalg import Vector\n",
    "from pyspark.ml.feature import VectorAssembler\n",
    "from pyspark.ml.regression import LinearRegression\n"
   ],
   "outputs": [],
   "metadata": {}
  },
  {
   "cell_type": "markdown",
   "source": [
    "When we read in Time Series data, we need to \"bin\" it appropriately.  \n",
    "\n",
    "We need to decide what to do if we have several values in a bin.  Take the average?  Just pick one?"
   ],
   "metadata": {}
  },
  {
   "cell_type": "code",
   "execution_count": 79,
   "source": [
    "# units are seconds\n",
    "ts_bin_size = 60 * 60 * 24  # Round to nearest day"
   ],
   "outputs": [],
   "metadata": {}
  },
  {
   "cell_type": "markdown",
   "source": [
    "Read the OHLC data"
   ],
   "metadata": {}
  },
  {
   "cell_type": "code",
   "execution_count": 80,
   "source": [
    "bitcoin_price_ohlc_DF = spark.read.csv(\"data/btc/price-ohlc.csv\", inferSchema=True, header=True)\n",
    "bitcoin_price_ohlc_DF = bitcoin_price_ohlc_DF.withColumn(\n",
    "  'ts_bin',\n",
    "  F.round(F.col('time') / ts_bin_size)\n",
    ")\n",
    "bitcoin_price_ohlc_DF.printSchema()\n"
   ],
   "outputs": [
    {
     "output_type": "stream",
     "name": "stdout",
     "text": [
      "root\n",
      " |-- time: integer (nullable = true)\n",
      " |-- open: double (nullable = true)\n",
      " |-- high: double (nullable = true)\n",
      " |-- low: double (nullable = true)\n",
      " |-- close: double (nullable = true)\n",
      " |-- ts_bin: double (nullable = true)\n",
      "\n"
     ]
    }
   ],
   "metadata": {
    "collapsed": true
   }
  },
  {
   "cell_type": "code",
   "execution_count": 144,
   "source": [
    "bitcoin_market_cap_DF = spark.read.csv(\"data/btc/market-cap.csv\", inferSchema=True, header=True)\n",
    "bitcoin_market_cap_DF = bitcoin_market_cap_DF.withColumn(\n",
    "  'ts_bin',\n",
    "  F.round(F.col('time') / ts_bin_size)\n",
    ")\n",
    "bitcoin_market_cap_DF.sort(F.desc('time')).limit(1).show()"
   ],
   "outputs": [
    {
     "output_type": "stream",
     "name": "stdout",
     "text": [
      "+----------+--------------------+-------+\n",
      "|      time|          market_cap| ts_bin|\n",
      "+----------+--------------------+-------+\n",
      "|1629331200|8.497396385194412E11|18858.0|\n",
      "+----------+--------------------+-------+\n",
      "\n"
     ]
    }
   ],
   "metadata": {}
  },
  {
   "cell_type": "code",
   "execution_count": 124,
   "source": [
    "bitcoin_transaction_count_DF = spark.read.csv(\"data/btc/transaction-count.csv\", inferSchema=True, header=True)\n",
    "bitcoin_transaction_count_DF = bitcoin_transaction_count_DF.withColumn(\n",
    "  'ts_bin',\n",
    "  F.round(F.col('time') / ts_bin_size)\n",
    ")\n",
    "bitcoin_transaction_count_DF.sort(F.desc('time')).limit(1).show()"
   ],
   "outputs": [
    {
     "output_type": "stream",
     "name": "stdout",
     "text": [
      "+----------+-----------------+-------+\n",
      "|      time|transaction_count| ts_bin|\n",
      "+----------+-----------------+-------+\n",
      "|1629331200|           253293|18858.0|\n",
      "+----------+-----------------+-------+\n",
      "\n"
     ]
    }
   ],
   "metadata": {}
  },
  {
   "cell_type": "markdown",
   "source": [
    "Next, read in price average data"
   ],
   "metadata": {}
  },
  {
   "cell_type": "code",
   "execution_count": 126,
   "source": [
    "bitcoin_price_DF = spark.read.csv(\"data/btc/price.csv\", inferSchema=True, header=True)\n",
    "bitcoin_price_DF = bitcoin_price_DF.withColumn(\n",
    "  'ts_bin',\n",
    "  F.round(F.col('time') / ts_bin_size)\n",
    ")\n",
    "bitcoin_price_DF.show()\n"
   ],
   "outputs": [
    {
     "output_type": "stream",
     "name": "stdout",
     "text": [
      "+----------+--------------------+-------+\n",
      "|      time|               price| ts_bin|\n",
      "+----------+--------------------+-------+\n",
      "|1279324800|0.049510000000000005|14807.0|\n",
      "|1279411200|             0.08584|14808.0|\n",
      "|1279497600|              0.0808|14809.0|\n",
      "|1279584000| 0.07473333333333332|14810.0|\n",
      "|1279670400|             0.07921|14811.0|\n",
      "|1279756800|            0.055945|14812.0|\n",
      "|1279843200|0.062283333333333336|14813.0|\n",
      "|1279929600|             0.05454|14814.0|\n",
      "|1280016000|              0.0505|14815.0|\n",
      "|1280102400|               0.056|14816.0|\n",
      "|1280188800|0.059844444444444436|14817.0|\n",
      "|1280275200|              0.0589|14818.0|\n",
      "|1280361600| 0.06920000000000001|14819.0|\n",
      "|1280448000| 0.06428333333333333|14820.0|\n",
      "|1280534400|             0.06785|14821.0|\n",
      "|1280620800|              0.0611|14822.0|\n",
      "|1280707200|                0.06|14823.0|\n",
      "|1280793600|                0.06|14824.0|\n",
      "|1280880000|             0.05795|14825.0|\n",
      "|1280966400|               0.061|14826.0|\n",
      "+----------+--------------------+-------+\n",
      "only showing top 20 rows\n",
      "\n"
     ]
    }
   ],
   "metadata": {}
  },
  {
   "cell_type": "markdown",
   "source": [
    "We can do a filtered binned join to join these together, which is necessary because our timestamps don't match perfectly"
   ],
   "metadata": {}
  },
  {
   "cell_type": "code",
   "execution_count": 127,
   "source": [
    "combined = bitcoin_price_DF.join(bitcoin_transaction_count_DF, bitcoin_price_DF.ts_bin == bitcoin_transaction_count_DF.ts_bin, 'outer') \\\n",
    "  .select(\n",
    "    bitcoin_price_DF.ts_bin, \n",
    "    bitcoin_price_DF.time, \n",
    "    bitcoin_transaction_count_DF.transaction_count,\n",
    "    bitcoin_price_DF.price\n",
    "    ) \\\n",
    "  .sort(F.desc(\"time\"))\n",
    "combined.show()\n"
   ],
   "outputs": [
    {
     "output_type": "stream",
     "name": "stderr",
     "text": []
    },
    {
     "output_type": "stream",
     "name": "stdout",
     "text": [
      "+-------+----------+-----------------+------------------+\n",
      "| ts_bin|      time|transaction_count|             price|\n",
      "+-------+----------+-----------------+------------------+\n",
      "|18859.0|1629417600|             null| 47151.67413602592|\n",
      "|18858.0|1629331200|           253293|46717.578745203784|\n",
      "|18857.0|1629244800|           247198| 44801.18871714413|\n",
      "|18856.0|1629158400|           257594| 44695.35761921304|\n",
      "|18855.0|1629072000|           263368|46004.484078602196|\n",
      "|18854.0|1628985600|           186057| 47064.63037062539|\n",
      "|18853.0|1628899200|           208910| 47096.94566198037|\n",
      "|18852.0|1628812800|           260482| 47831.97604291269|\n",
      "|18851.0|1628726400|           250810|44428.288466806436|\n",
      "|18850.0|1628640000|           262290| 45593.63593070519|\n",
      "|18849.0|1628553600|           260803| 45594.07627236636|\n",
      "|18848.0|1628467200|           252508| 46284.97398221619|\n",
      "|18847.0|1628380800|           191465| 43785.48181939978|\n",
      "|18846.0|1628294400|           212062| 44689.86095932558|\n",
      "|18845.0|1628208000|           260651|  42826.8312632613|\n",
      "|18844.0|1628121600|           246015|40854.599720736376|\n",
      "|18843.0|1628035200|           239460|39799.303765271405|\n",
      "|18842.0|1627948800|           246029|38160.716653116004|\n",
      "|18841.0|1627862400|           239134| 39183.67244883457|\n",
      "|18840.0|1627776000|           185003| 40135.33200074718|\n",
      "+-------+----------+-----------------+------------------+\n",
      "only showing top 20 rows\n",
      "\n"
     ]
    }
   ],
   "metadata": {}
  },
  {
   "cell_type": "code",
   "execution_count": 145,
   "source": [
    "combined = combined.join(bitcoin_market_cap_DF, combined.ts_bin == bitcoin_market_cap_DF.ts_bin, 'outer') \\\n",
    "  .select(\n",
    "    combined.ts_bin, \n",
    "    combined.time, \n",
    "    combined.transaction_count, \n",
    "    bitcoin_market_cap_DF.market_cap,\n",
    "    combined.price\n",
    "    ) \\\n",
    "  .sort(F.desc(\"time\"))\n",
    "combined.show()"
   ],
   "outputs": [
    {
     "output_type": "stream",
     "name": "stderr",
     "text": []
    },
    {
     "output_type": "stream",
     "name": "stdout",
     "text": [
      "+-------+----------+--------------------+------------------+\n",
      "| ts_bin|      time|          market_cap|             price|\n",
      "+-------+----------+--------------------+------------------+\n",
      "|18859.0|1629417600|                null| 47151.67413602592|\n",
      "|18858.0|1629331200|8.497396385194412E11|46717.578745203784|\n",
      "|18857.0|1629244800|8.482791605982158E11| 44801.18871714413|\n",
      "|18856.0|1629158400|8.638057886725898E11| 44695.35761921304|\n",
      "|18855.0|1629072000|8.816383611551125E11|46004.484078602196|\n",
      "|18854.0|1628985600|8.725546547980099E11| 47064.63037062539|\n",
      "|18853.0|1628899200|8.850899196685634E11| 47096.94566198037|\n",
      "|18852.0|1628812800|  8.6754351226538E11| 47831.97604291269|\n",
      "|18851.0|1628726400|8.441146652576704E11|44428.288466806436|\n",
      "|18850.0|1628640000| 8.65642112515162E11| 45593.63593070519|\n",
      "|18849.0|1628553600|8.563157729837993E11| 45594.07627236636|\n",
      "|18848.0|1628467200|8.429713176175574E11| 46284.97398221619|\n",
      "|18847.0|1628380800|8.324156870518466E11| 43785.48181939978|\n",
      "|18846.0|1628294400|8.177146621467224E11| 44689.86095932558|\n",
      "|18845.0|1628208000|7.764335119290201E11|  42826.8312632613|\n",
      "|18844.0|1628121600|7.409932755625297E11|40854.599720736376|\n",
      "|18843.0|1628035200|7.270323289016244E11|39799.303765271405|\n",
      "|18842.0|1627948800|7.224535985092985E11|38160.716653116004|\n",
      "|18841.0|1627862400|7.438093729932744E11| 39183.67244883457|\n",
      "|18840.0|1627776000|7.786537173311521E11| 40135.33200074718|\n",
      "+-------+----------+--------------------+------------------+\n",
      "only showing top 20 rows\n",
      "\n"
     ]
    },
    {
     "output_type": "stream",
     "name": "stderr",
     "text": []
    }
   ],
   "metadata": {}
  },
  {
   "cell_type": "code",
   "execution_count": 146,
   "source": [
    "feature_assembler = VectorAssembler(inputCols=[\"time\", \"market_cap\", \"transaction_count\"], outputCol='VFeatures', handleInvalid='skip')\n",
    "output = feature_assembler.transform(combined)\n",
    "output.limit(2).show()"
   ],
   "outputs": [
    {
     "output_type": "error",
     "ename": "IllegalArgumentException",
     "evalue": "transaction_count does not exist. Available: ts_bin, time, market_cap, price",
     "traceback": [
      "\u001b[0;31m---------------------------------------------------------------------------\u001b[0m",
      "\u001b[0;31mIllegalArgumentException\u001b[0m                  Traceback (most recent call last)",
      "\u001b[0;32m/tmp/ipykernel_48/805043948.py\u001b[0m in \u001b[0;36m<module>\u001b[0;34m\u001b[0m\n\u001b[1;32m      1\u001b[0m \u001b[0mfeature_assembler\u001b[0m \u001b[0;34m=\u001b[0m \u001b[0mVectorAssembler\u001b[0m\u001b[0;34m(\u001b[0m\u001b[0minputCols\u001b[0m\u001b[0;34m=\u001b[0m\u001b[0;34m[\u001b[0m\u001b[0;34m\"time\"\u001b[0m\u001b[0;34m,\u001b[0m \u001b[0;34m\"market_cap\"\u001b[0m\u001b[0;34m,\u001b[0m \u001b[0;34m\"transaction_count\"\u001b[0m\u001b[0;34m]\u001b[0m\u001b[0;34m,\u001b[0m \u001b[0moutputCol\u001b[0m\u001b[0;34m=\u001b[0m\u001b[0;34m'VFeatures'\u001b[0m\u001b[0;34m,\u001b[0m \u001b[0mhandleInvalid\u001b[0m\u001b[0;34m=\u001b[0m\u001b[0;34m'skip'\u001b[0m\u001b[0;34m)\u001b[0m\u001b[0;34m\u001b[0m\u001b[0;34m\u001b[0m\u001b[0m\n\u001b[0;32m----> 2\u001b[0;31m \u001b[0moutput\u001b[0m \u001b[0;34m=\u001b[0m \u001b[0mfeature_assembler\u001b[0m\u001b[0;34m.\u001b[0m\u001b[0mtransform\u001b[0m\u001b[0;34m(\u001b[0m\u001b[0mcombined\u001b[0m\u001b[0;34m)\u001b[0m\u001b[0;34m\u001b[0m\u001b[0;34m\u001b[0m\u001b[0m\n\u001b[0m\u001b[1;32m      3\u001b[0m \u001b[0moutput\u001b[0m\u001b[0;34m.\u001b[0m\u001b[0mlimit\u001b[0m\u001b[0;34m(\u001b[0m\u001b[0;36m2\u001b[0m\u001b[0;34m)\u001b[0m\u001b[0;34m.\u001b[0m\u001b[0mshow\u001b[0m\u001b[0;34m(\u001b[0m\u001b[0;34m)\u001b[0m\u001b[0;34m\u001b[0m\u001b[0;34m\u001b[0m\u001b[0m\n",
      "\u001b[0;32m/usr/local/spark/python/pyspark/ml/base.py\u001b[0m in \u001b[0;36mtransform\u001b[0;34m(self, dataset, params)\u001b[0m\n\u001b[1;32m    215\u001b[0m                 \u001b[0;32mreturn\u001b[0m \u001b[0mself\u001b[0m\u001b[0;34m.\u001b[0m\u001b[0mcopy\u001b[0m\u001b[0;34m(\u001b[0m\u001b[0mparams\u001b[0m\u001b[0;34m)\u001b[0m\u001b[0;34m.\u001b[0m\u001b[0m_transform\u001b[0m\u001b[0;34m(\u001b[0m\u001b[0mdataset\u001b[0m\u001b[0;34m)\u001b[0m\u001b[0;34m\u001b[0m\u001b[0;34m\u001b[0m\u001b[0m\n\u001b[1;32m    216\u001b[0m             \u001b[0;32melse\u001b[0m\u001b[0;34m:\u001b[0m\u001b[0;34m\u001b[0m\u001b[0;34m\u001b[0m\u001b[0m\n\u001b[0;32m--> 217\u001b[0;31m                 \u001b[0;32mreturn\u001b[0m \u001b[0mself\u001b[0m\u001b[0;34m.\u001b[0m\u001b[0m_transform\u001b[0m\u001b[0;34m(\u001b[0m\u001b[0mdataset\u001b[0m\u001b[0;34m)\u001b[0m\u001b[0;34m\u001b[0m\u001b[0;34m\u001b[0m\u001b[0m\n\u001b[0m\u001b[1;32m    218\u001b[0m         \u001b[0;32melse\u001b[0m\u001b[0;34m:\u001b[0m\u001b[0;34m\u001b[0m\u001b[0;34m\u001b[0m\u001b[0m\n\u001b[1;32m    219\u001b[0m             \u001b[0;32mraise\u001b[0m \u001b[0mValueError\u001b[0m\u001b[0;34m(\u001b[0m\u001b[0;34m\"Params must be a param map but got %s.\"\u001b[0m \u001b[0;34m%\u001b[0m \u001b[0mtype\u001b[0m\u001b[0;34m(\u001b[0m\u001b[0mparams\u001b[0m\u001b[0;34m)\u001b[0m\u001b[0;34m)\u001b[0m\u001b[0;34m\u001b[0m\u001b[0;34m\u001b[0m\u001b[0m\n",
      "\u001b[0;32m/usr/local/spark/python/pyspark/ml/wrapper.py\u001b[0m in \u001b[0;36m_transform\u001b[0;34m(self, dataset)\u001b[0m\n\u001b[1;32m    348\u001b[0m     \u001b[0;32mdef\u001b[0m \u001b[0m_transform\u001b[0m\u001b[0;34m(\u001b[0m\u001b[0mself\u001b[0m\u001b[0;34m,\u001b[0m \u001b[0mdataset\u001b[0m\u001b[0;34m)\u001b[0m\u001b[0;34m:\u001b[0m\u001b[0;34m\u001b[0m\u001b[0;34m\u001b[0m\u001b[0m\n\u001b[1;32m    349\u001b[0m         \u001b[0mself\u001b[0m\u001b[0;34m.\u001b[0m\u001b[0m_transfer_params_to_java\u001b[0m\u001b[0;34m(\u001b[0m\u001b[0;34m)\u001b[0m\u001b[0;34m\u001b[0m\u001b[0;34m\u001b[0m\u001b[0m\n\u001b[0;32m--> 350\u001b[0;31m         \u001b[0;32mreturn\u001b[0m \u001b[0mDataFrame\u001b[0m\u001b[0;34m(\u001b[0m\u001b[0mself\u001b[0m\u001b[0;34m.\u001b[0m\u001b[0m_java_obj\u001b[0m\u001b[0;34m.\u001b[0m\u001b[0mtransform\u001b[0m\u001b[0;34m(\u001b[0m\u001b[0mdataset\u001b[0m\u001b[0;34m.\u001b[0m\u001b[0m_jdf\u001b[0m\u001b[0;34m)\u001b[0m\u001b[0;34m,\u001b[0m \u001b[0mdataset\u001b[0m\u001b[0;34m.\u001b[0m\u001b[0msql_ctx\u001b[0m\u001b[0;34m)\u001b[0m\u001b[0;34m\u001b[0m\u001b[0;34m\u001b[0m\u001b[0m\n\u001b[0m\u001b[1;32m    351\u001b[0m \u001b[0;34m\u001b[0m\u001b[0m\n\u001b[1;32m    352\u001b[0m \u001b[0;34m\u001b[0m\u001b[0m\n",
      "\u001b[0;32m/usr/local/spark/python/lib/py4j-0.10.9-src.zip/py4j/java_gateway.py\u001b[0m in \u001b[0;36m__call__\u001b[0;34m(self, *args)\u001b[0m\n\u001b[1;32m   1302\u001b[0m \u001b[0;34m\u001b[0m\u001b[0m\n\u001b[1;32m   1303\u001b[0m         \u001b[0manswer\u001b[0m \u001b[0;34m=\u001b[0m \u001b[0mself\u001b[0m\u001b[0;34m.\u001b[0m\u001b[0mgateway_client\u001b[0m\u001b[0;34m.\u001b[0m\u001b[0msend_command\u001b[0m\u001b[0;34m(\u001b[0m\u001b[0mcommand\u001b[0m\u001b[0;34m)\u001b[0m\u001b[0;34m\u001b[0m\u001b[0;34m\u001b[0m\u001b[0m\n\u001b[0;32m-> 1304\u001b[0;31m         return_value = get_return_value(\n\u001b[0m\u001b[1;32m   1305\u001b[0m             answer, self.gateway_client, self.target_id, self.name)\n\u001b[1;32m   1306\u001b[0m \u001b[0;34m\u001b[0m\u001b[0m\n",
      "\u001b[0;32m/usr/local/spark/python/pyspark/sql/utils.py\u001b[0m in \u001b[0;36mdeco\u001b[0;34m(*a, **kw)\u001b[0m\n\u001b[1;32m    115\u001b[0m                 \u001b[0;31m# Hide where the exception came from that shows a non-Pythonic\u001b[0m\u001b[0;34m\u001b[0m\u001b[0;34m\u001b[0m\u001b[0;34m\u001b[0m\u001b[0m\n\u001b[1;32m    116\u001b[0m                 \u001b[0;31m# JVM exception message.\u001b[0m\u001b[0;34m\u001b[0m\u001b[0;34m\u001b[0m\u001b[0;34m\u001b[0m\u001b[0m\n\u001b[0;32m--> 117\u001b[0;31m                 \u001b[0;32mraise\u001b[0m \u001b[0mconverted\u001b[0m \u001b[0;32mfrom\u001b[0m \u001b[0;32mNone\u001b[0m\u001b[0;34m\u001b[0m\u001b[0;34m\u001b[0m\u001b[0m\n\u001b[0m\u001b[1;32m    118\u001b[0m             \u001b[0;32melse\u001b[0m\u001b[0;34m:\u001b[0m\u001b[0;34m\u001b[0m\u001b[0;34m\u001b[0m\u001b[0m\n\u001b[1;32m    119\u001b[0m                 \u001b[0;32mraise\u001b[0m\u001b[0;34m\u001b[0m\u001b[0;34m\u001b[0m\u001b[0m\n",
      "\u001b[0;31mIllegalArgumentException\u001b[0m: transaction_count does not exist. Available: ts_bin, time, market_cap, price"
     ]
    }
   ],
   "metadata": {}
  },
  {
   "cell_type": "code",
   "execution_count": 129,
   "source": [
    "traindata, testdata = output.randomSplit([0.75, 0.25])\n",
    "regressor = LinearRegression(featuresCol='VFeatures', labelCol='price')\n",
    "regressor = regressor.fit(traindata)"
   ],
   "outputs": [
    {
     "output_type": "stream",
     "name": "stderr",
     "text": [
      "21/08/20 23:02:37 WARN Instrumentation: [284e18c9] regParam is zero, which might cause numerical instability and overfitting.\n"
     ]
    }
   ],
   "metadata": {}
  },
  {
   "cell_type": "code",
   "execution_count": 130,
   "source": [
    "regressor.coefficients"
   ],
   "outputs": [
    {
     "output_type": "execute_result",
     "data": {
      "text/plain": [
       "DenseVector([0.0001, -0.0573])"
      ]
     },
     "metadata": {},
     "execution_count": 130
    }
   ],
   "metadata": {}
  },
  {
   "cell_type": "code",
   "execution_count": 131,
   "source": [
    "pred = regressor.evaluate(testdata)"
   ],
   "outputs": [
    {
     "output_type": "stream",
     "name": "stderr",
     "text": []
    }
   ],
   "metadata": {}
  },
  {
   "cell_type": "code",
   "execution_count": 141,
   "source": [
    "print(\"\"\"\n",
    "  Features Column: %s\n",
    "  Label Column: %s\n",
    "  Explained Variance: %s\n",
    "  r Squared %s\n",
    "  r Squared (adjusted) %s\n",
    "\"\"\" % (\n",
    "  pred.featuresCol,\n",
    "  pred.labelCol,\n",
    "  pred.explainedVariance,\n",
    "  pred.r2,\n",
    "  pred.r2adj\n",
    "))\n",
    "\n",
    "pred.r2\n",
    "pred.r2adj\n",
    "\n",
    "pred.predictions.show()\n"
   ],
   "outputs": [
    {
     "output_type": "stream",
     "name": "stdout",
     "text": [
      "\n",
      "  Features Column: VFeatures\n",
      "  Label Column: price\n",
      "  Explained Variance: 58598254.485269256\n",
      "  r Squared 0.4993382328797972\n",
      "  r Squared (adjusted) 0.49829409989310225\n",
      "\n"
     ]
    },
    {
     "output_type": "stream",
     "name": "stderr",
     "text": []
    },
    {
     "output_type": "stream",
     "name": "stdout",
     "text": [
      "+-------+----------+-----------------+------------------+--------------------+------------------+\n",
      "| ts_bin|      time|transaction_count|             price|           VFeatures|        prediction|\n",
      "+-------+----------+-----------------+------------------+--------------------+------------------+\n",
      "|18838.0|1627603200|           255251| 42080.75491077187|[1.6276032E9,2552...| 22557.26864293567|\n",
      "|18845.0|1628208000|           260651|  42826.8312632613|[1.628208E9,26065...| 22326.89480657049|\n",
      "|18849.0|1628553600|           260803| 45594.07627236636|[1.6285536E9,2608...|22363.231978468888|\n",
      "|18852.0|1628812800|           260482| 47831.97604291269|[1.6288128E9,2604...|22415.392198827525|\n",
      "|18854.0|1628985600|           186057| 47064.63037062539|[1.6289856E9,1860...|26699.358127851418|\n",
      "|18855.0|1629072000|           263368|46004.484078602196|[1.629072E9,26336...|22283.925191642367|\n",
      "|18821.0|1626134400|           229780|32616.020911028223|[1.6261344E9,2297...| 23824.27187183895|\n",
      "|18829.0|1626825600|           235535|32131.635486882926|[1.6268256E9,2355...|23584.831461241818|\n",
      "|18835.0|1627344000|           255051|39315.132254921446|[1.627344E9,25505...|22534.939974042674|\n",
      "|18798.0|1624147200|           167144| 35704.62085788758|[1.6241472E9,1671...| 27151.71755112207|\n",
      "|18802.0|1624492800|           233173| 34629.99104463987|[1.6244928E9,2331...|  23416.0525811736|\n",
      "|18806.0|1624838400|           220912| 34408.64609236688|[1.6248384E9,2209...| 24163.13648693575|\n",
      "|18807.0|1624924800|           205526| 35900.15433447891|[1.6249248E9,2055...|25055.372123108216|\n",
      "|18811.0|1625270400|           237336| 34674.53246619413|[1.6252704E9,2373...|23279.027421111503|\n",
      "|18814.0|1625529600|           228137| 34158.92122381347|[1.6255296E9,2281...|  23839.5264397657|\n",
      "|18815.0|1625616000|           221104| 33850.91409077919|[1.625616E9,22110...| 24253.48386213294|\n",
      "|18817.0|1625788800|           227380| 33878.23686193274|[1.6257888E9,2273...| 23916.65125981535|\n",
      "|18778.0|1622419200|           226328|37317.276797389924|[1.6224192E9,2263...|23537.742783652095|\n",
      "|18779.0|1622505600|           234419| 36642.32959185035|[1.6225056E9,2344...|  23085.7263396731|\n",
      "|18784.0|1622937600|           185155| 35797.42238993168|[1.6229376E9,1851...|25962.797605279164|\n",
      "+-------+----------+-----------------+------------------+--------------------+------------------+\n",
      "only showing top 20 rows\n",
      "\n"
     ]
    },
    {
     "output_type": "stream",
     "name": "stderr",
     "text": []
    }
   ],
   "metadata": {}
  }
 ],
 "metadata": {
  "kernelspec": {
   "display_name": "Python 3 (ipykernel)",
   "language": "python",
   "name": "python3"
  },
  "language_info": {
   "name": "python",
   "version": "3.9.5",
   "mimetype": "text/x-python",
   "codemirror_mode": {
    "name": "ipython",
    "version": 3
   },
   "pygments_lexer": "ipython3",
   "nbconvert_exporter": "python",
   "file_extension": ".py"
  }
 },
 "nbformat": 4,
 "nbformat_minor": 5
}