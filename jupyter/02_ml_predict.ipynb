{
 "cells": [
  {
   "cell_type": "code",
   "execution_count": 8,
   "source": [
    "from pyspark.sql import SparkSession\n",
    "\n",
    "# Spark session & context\n",
    "spark = SparkSession.builder.master('local[2]').getOrCreate()\n",
    "sc = spark.sparkContext"
   ],
   "outputs": [],
   "metadata": {
    "collapsed": true
   }
  },
  {
   "cell_type": "code",
   "execution_count": 14,
   "source": [
    "bitcoin_price_ohlc_DF = spark.read.csv(\"data/btc/price-ohlc.csv\", inferSchema=True, header=True)\n",
    "bitcoin_price_ohlc_DF.printSchema()"
   ],
   "outputs": [
    {
     "output_type": "stream",
     "name": "stderr",
     "text": []
    },
    {
     "output_type": "stream",
     "name": "stdout",
     "text": [
      "root\n",
      " |-- time: timestamp (nullable = true)\n",
      " |-- open: double (nullable = true)\n",
      " |-- high: double (nullable = true)\n",
      " |-- low: double (nullable = true)\n",
      " |-- close: double (nullable = true)\n",
      "\n"
     ]
    },
    {
     "output_type": "stream",
     "name": "stderr",
     "text": []
    }
   ],
   "metadata": {
    "collapsed": true
   }
  },
  {
   "cell_type": "code",
   "execution_count": 15,
   "source": [
    "bitcoin_price_ohlc_DF.show()"
   ],
   "outputs": [
    {
     "output_type": "stream",
     "name": "stdout",
     "text": [
      "+-------------------+--------------------+--------------------+--------------------+--------------------+\n",
      "|               time|                open|                high|                 low|               close|\n",
      "+-------------------+--------------------+--------------------+--------------------+--------------------+\n",
      "|2010-07-17 23:00:00|0.049510000000000005|0.049510000000000005|0.049510000000000005|0.049510000000000005|\n",
      "|2010-07-18 00:00:00|                null|                null|                null|                null|\n",
      "|2010-07-18 01:00:00|                null|                null|                null|                null|\n",
      "|2010-07-18 02:00:00|                null|                null|                null|                null|\n",
      "|2010-07-18 03:00:00|             0.05941|             0.05941|             0.05941|             0.05941|\n",
      "|2010-07-18 04:00:00|             0.05941|             0.05941|             0.05941|             0.05941|\n",
      "|2010-07-18 05:00:00|             0.05941|             0.05941|             0.05941|             0.05941|\n",
      "|2010-07-18 06:00:00|             0.05941|             0.05941|             0.05941|             0.05941|\n",
      "|2010-07-18 07:00:00|             0.05941|             0.05941|             0.05941|             0.05941|\n",
      "|2010-07-18 08:00:00|             0.05941|             0.05941|             0.05941|             0.05941|\n",
      "|2010-07-18 09:00:00|             0.05941|             0.05941|             0.05941|             0.05941|\n",
      "|2010-07-18 10:00:00|             0.05941|             0.05941|             0.05941|             0.05941|\n",
      "|2010-07-18 11:00:00|             0.05941|             0.05941|             0.05941|             0.05941|\n",
      "|2010-07-18 12:00:00|             0.05941|             0.05941|             0.05941|             0.05941|\n",
      "|2010-07-18 13:00:00|             0.05941|             0.05941|             0.05941|             0.05941|\n",
      "|2010-07-18 14:00:00|             0.05941|             0.05941|             0.05941|             0.05941|\n",
      "|2010-07-18 15:00:00|             0.05941|             0.05941|             0.05941|             0.05941|\n",
      "|2010-07-18 16:00:00|             0.05941|             0.05941|             0.05941|             0.05941|\n",
      "|2010-07-18 17:00:00|             0.05941|              0.0808|             0.05941|              0.0808|\n",
      "|2010-07-18 18:00:00|              0.0808|              0.0808|              0.0808|              0.0808|\n",
      "+-------------------+--------------------+--------------------+--------------------+--------------------+\n",
      "only showing top 20 rows\n",
      "\n"
     ]
    }
   ],
   "metadata": {}
  },
  {
   "cell_type": "code",
   "execution_count": null,
   "source": [],
   "outputs": [],
   "metadata": {}
  }
 ],
 "metadata": {
  "kernelspec": {
   "display_name": "Python 3 (ipykernel)",
   "language": "python",
   "name": "python3"
  },
  "language_info": {
   "name": "python",
   "version": "3.9.5",
   "mimetype": "text/x-python",
   "codemirror_mode": {
    "name": "ipython",
    "version": 3
   },
   "pygments_lexer": "ipython3",
   "nbconvert_exporter": "python",
   "file_extension": ".py"
  }
 },
 "nbformat": 4,
 "nbformat_minor": 5
}