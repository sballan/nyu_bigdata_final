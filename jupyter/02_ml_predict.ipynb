{
 "cells": [
  {
   "cell_type": "code",
   "execution_count": 57,
   "source": [
    "from pyspark.sql import SparkSession\n",
    "import pyspark.sql.functions as F\n",
    "\n",
    "# Spark session & context\n",
    "spark = SparkSession.builder.master('local[2]').getOrCreate()\n",
    "sc = spark.sparkContext"
   ],
   "outputs": [],
   "metadata": {
    "collapsed": true
   }
  },
  {
   "cell_type": "markdown",
   "source": [
    "Import libraries for training the ML models"
   ],
   "metadata": {}
  },
  {
   "cell_type": "code",
   "execution_count": 58,
   "source": [
    "from pyspark.ml.linalg import Vector\n",
    "from pyspark.ml.feature import VectorAssembler\n",
    "from pyspark.ml.regression import LinearRegression\n"
   ],
   "outputs": [],
   "metadata": {}
  },
  {
   "cell_type": "markdown",
   "source": [
    "When we read in Time Series data, we need to \"bin\" it appropriately.  \n",
    "\n",
    "We need to decide what to do if we have several values in a bin.  Take the average?  Just pick one?"
   ],
   "metadata": {}
  },
  {
   "cell_type": "code",
   "execution_count": 79,
   "source": [
    "# units are seconds\n",
    "ts_bin_size = 60 * 60 * 24  # Round to nearest day"
   ],
   "outputs": [],
   "metadata": {}
  },
  {
   "cell_type": "markdown",
   "source": [
    "Read the OHLC data"
   ],
   "metadata": {}
  },
  {
   "cell_type": "code",
   "execution_count": 80,
   "source": [
    "bitcoin_price_ohlc_DF = spark.read.csv(\"data/btc/price-ohlc.csv\", inferSchema=True, header=True)\n",
    "bitcoin_price_ohlc_DF = bitcoin_price_ohlc_DF.withColumn(\n",
    "  'ts_bin',\n",
    "  F.round(F.col('time') / ts_bin_size)\n",
    ")\n",
    "bitcoin_price_ohlc_DF.printSchema()\n"
   ],
   "outputs": [
    {
     "output_type": "stream",
     "name": "stdout",
     "text": [
      "root\n",
      " |-- time: integer (nullable = true)\n",
      " |-- open: double (nullable = true)\n",
      " |-- high: double (nullable = true)\n",
      " |-- low: double (nullable = true)\n",
      " |-- close: double (nullable = true)\n",
      " |-- ts_bin: double (nullable = true)\n",
      "\n"
     ]
    }
   ],
   "metadata": {
    "collapsed": true
   }
  },
  {
   "cell_type": "markdown",
   "source": [
    "Next, read in price average data"
   ],
   "metadata": {}
  },
  {
   "cell_type": "code",
   "execution_count": 81,
   "source": [
    "bitcoin_price_DF = spark.read.csv(\"data/btc/price.csv\", inferSchema=True, header=True)\n",
    "bitcoin_price_DF = bitcoin_price_DF.withColumn(\n",
    "  'ts_bin',\n",
    "  F.round(F.col('time') / ts_bin_size)\n",
    ")\n",
    "bitcoin_price_DF.show()\n"
   ],
   "outputs": [
    {
     "output_type": "stream",
     "name": "stdout",
     "text": [
      "+----------+--------------------+-------+\n",
      "|      time|               price| ts_bin|\n",
      "+----------+--------------------+-------+\n",
      "|1279324800|0.049510000000000005|14807.0|\n",
      "|1279411200|             0.08584|14808.0|\n",
      "|1279497600|              0.0808|14809.0|\n",
      "|1279584000| 0.07473333333333332|14810.0|\n",
      "|1279670400|             0.07921|14811.0|\n",
      "|1279756800|            0.055945|14812.0|\n",
      "|1279843200|0.062283333333333336|14813.0|\n",
      "|1279929600|             0.05454|14814.0|\n",
      "|1280016000|              0.0505|14815.0|\n",
      "|1280102400|               0.056|14816.0|\n",
      "|1280188800|0.059844444444444436|14817.0|\n",
      "|1280275200|              0.0589|14818.0|\n",
      "|1280361600| 0.06920000000000001|14819.0|\n",
      "|1280448000| 0.06428333333333333|14820.0|\n",
      "|1280534400|             0.06785|14821.0|\n",
      "|1280620800|              0.0611|14822.0|\n",
      "|1280707200|                0.06|14823.0|\n",
      "|1280793600|                0.06|14824.0|\n",
      "|1280880000|             0.05795|14825.0|\n",
      "|1280966400|               0.061|14826.0|\n",
      "+----------+--------------------+-------+\n",
      "only showing top 20 rows\n",
      "\n"
     ]
    }
   ],
   "metadata": {}
  },
  {
   "cell_type": "markdown",
   "source": [
    "We can do a filtered binned join to join these together, which is necessary because our timestamps don't match perfectly"
   ],
   "metadata": {}
  },
  {
   "cell_type": "code",
   "execution_count": 82,
   "source": [
    "combined = bitcoin_price_ohlc_DF.join(bitcoin_price_DF, bitcoin_price_DF.ts_bin == bitcoin_price_ohlc_DF.ts_bin, 'outer') \\\n",
    "  .select(\n",
    "    bitcoin_price_ohlc_DF.ts_bin, \n",
    "    bitcoin_price_ohlc_DF.time, \n",
    "    bitcoin_price_ohlc_DF.open, \n",
    "    bitcoin_price_ohlc_DF.close, \n",
    "    bitcoin_price_DF.price\n",
    "    ) \\\n",
    "  .sort(F.desc(\"ts_bin\"))\n",
    "combined.show()\n"
   ],
   "outputs": [],
   "metadata": {}
  },
  {
   "cell_type": "code",
   "execution_count": null,
   "source": [
    "feature_assembler = VectorAssembler(inputCols=[\"time\", \"open\", \"high\", \"low\", \"close\"], handleInvalid='skip')\n",
    "output = feature_assembler.transform(bitcoin_price_ohlc_DF)\n",
    "output.limit(2).show()"
   ],
   "outputs": [
    {
     "output_type": "stream",
     "name": "stdout",
     "text": [
      "+----------+--------------------+--------------------+--------------------+--------------------+--------+------------------------------------+\n",
      "|      time|                open|                high|                 low|               close|  ts_bin|VectorAssembler_749876957ca6__output|\n",
      "+----------+--------------------+--------------------+--------------------+--------------------+--------+------------------------------------+\n",
      "|1279407600|0.049510000000000005|0.049510000000000005|0.049510000000000005|0.049510000000000005|355391.0|                [1.2794076E9,0.04...|\n",
      "|1279422000|             0.05941|             0.05941|             0.05941|             0.05941|355395.0|                [1.279422E9,0.059...|\n",
      "+----------+--------------------+--------------------+--------------------+--------------------+--------+------------------------------------+\n",
      "\n"
     ]
    }
   ],
   "metadata": {}
  },
  {
   "cell_type": "code",
   "execution_count": null,
   "source": [
    "regressor = LinearRegression(featuresCol='', labelCol='')"
   ],
   "outputs": [],
   "metadata": {}
  }
 ],
 "metadata": {
  "kernelspec": {
   "display_name": "Python 3 (ipykernel)",
   "language": "python",
   "name": "python3"
  },
  "language_info": {
   "name": "python",
   "version": "3.9.5",
   "mimetype": "text/x-python",
   "codemirror_mode": {
    "name": "ipython",
    "version": 3
   },
   "pygments_lexer": "ipython3",
   "nbconvert_exporter": "python",
   "file_extension": ".py"
  }
 },
 "nbformat": 4,
 "nbformat_minor": 5
}