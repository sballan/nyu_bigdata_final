{
 "cells": [
  {
   "cell_type": "code",
   "execution_count": 2,
   "source": [
    "from pyspark.sql import SparkSession\n",
    "\n",
    "# Spark session & context\n",
    "spark = SparkSession.builder.master('local[2]').getOrCreate()\n",
    "sc = spark.sparkContext"
   ],
   "outputs": [
    {
     "output_type": "stream",
     "name": "stderr",
     "text": [
      "WARNING: An illegal reflective access operation has occurred\n",
      "WARNING: Illegal reflective access by org.apache.spark.unsafe.Platform (file:/usr/local/spark-3.1.2-bin-hadoop3.2/jars/spark-unsafe_2.12-3.1.2.jar) to constructor java.nio.DirectByteBuffer(long,int)\n",
      "WARNING: Please consider reporting this to the maintainers of org.apache.spark.unsafe.Platform\n",
      "WARNING: Use --illegal-access=warn to enable warnings of further illegal reflective access operations\n",
      "WARNING: All illegal access operations will be denied in a future release\n",
      "21/08/20 22:52:39 WARN NativeCodeLoader: Unable to load native-hadoop library for your platform... using builtin-java classes where applicable\n",
      "Using Spark's default log4j profile: org/apache/spark/log4j-defaults.properties\n",
      "Setting default log level to \"WARN\".\n",
      "To adjust logging level use sc.setLogLevel(newLevel). For SparkR, use setLogLevel(newLevel).\n",
      "21/08/20 22:52:42 WARN Utils: Service 'SparkUI' could not bind on port 4040. Attempting port 4041.\n",
      "21/08/20 22:52:42 WARN Utils: Service 'SparkUI' could not bind on port 4041. Attempting port 4042.\n"
     ]
    }
   ],
   "metadata": {}
  },
  {
   "cell_type": "code",
   "execution_count": 3,
   "source": [
    "import json\n",
    "import csv\n",
    "\n",
    "from datetime import datetime"
   ],
   "outputs": [],
   "metadata": {}
  },
  {
   "cell_type": "code",
   "execution_count": 4,
   "source": [
    "jsonfile = open(\"data/json/btc/price-ohlc.json\")\n",
    "bitcoin_price_ohlc_json = json.load(jsonfile)\n",
    "\n",
    "csvfile = open('data/btc/price-ohlc.csv', 'w')\n",
    "writer = csv.writer(csvfile)\n",
    "writer.writerow(['time', 'open', 'high', 'low', 'close'])\n",
    "\n",
    "for row in bitcoin_price_ohlc_json:\n",
    "    t = int(datetime.strptime(row['t'],\"%Y-%m-%dT%H:%M:%SZ\").timestamp())\n",
    "    writer.writerow([t, row['o']['o'], row['o']['h'], row['o']['l'], row['o']['c']])\n",
    "\n",
    "csvfile.close()\n",
    "jsonfile.close()"
   ],
   "outputs": [],
   "metadata": {}
  },
  {
   "cell_type": "code",
   "execution_count": 5,
   "source": [
    "jsonfile = open(\"data/json/btc/price.json\")\n",
    "bitcoin_price_json = json.load(jsonfile)\n",
    "\n",
    "csvfile = open('data/btc/price.csv', 'w')\n",
    "writer = csv.writer(csvfile)\n",
    "writer.writerow(['time', 'price'])\n",
    "\n",
    "for row in bitcoin_price_json:\n",
    "    t = int(datetime.strptime(row['t'],\"%Y-%m-%dT%H:%M:%SZ\").timestamp())\n",
    "    writer.writerow([t, row['v']])\n",
    "\n",
    "csvfile.close()\n",
    "jsonfile.close()"
   ],
   "outputs": [],
   "metadata": {}
  },
  {
   "cell_type": "code",
   "execution_count": 6,
   "source": [
    "filename = \"market-cap\"\n",
    "jsonfile = open(\"data/json/btc/%s.json\" % filename)\n",
    "json_data = json.load(jsonfile)\n",
    "\n",
    "csvfile = open('data/btc/%s.csv' % filename, 'w')\n",
    "writer = csv.writer(csvfile)\n",
    "writer.writerow(['time', 'marketcap'])\n",
    "\n",
    "for row in json_data:\n",
    "    t = int(datetime.strptime(row['t'],\"%Y-%m-%dT%H:%M:%SZ\").timestamp())\n",
    "    writer.writerow([t, row['v']])\n",
    "\n",
    "csvfile.close()\n",
    "jsonfile.close()"
   ],
   "outputs": [],
   "metadata": {}
  },
  {
   "cell_type": "code",
   "execution_count": 7,
   "source": [
    "filename = \"transaction-count\"\n",
    "jsonfile = open(\"data/json/btc/%s.json\" % filename)\n",
    "json_data = json.load(jsonfile)\n",
    "\n",
    "csvfile = open('data/btc/%s.csv' % filename, 'w')\n",
    "writer = csv.writer(csvfile)\n",
    "writer.writerow(['time', 'transaction_count'])\n",
    "\n",
    "for row in json_data:\n",
    "    t = int(datetime.strptime(row['t'],\"%Y-%m-%dT%H:%M:%SZ\").timestamp())\n",
    "    writer.writerow([t, row['v']])\n",
    "\n",
    "csvfile.close()\n",
    "jsonfile.close()"
   ],
   "outputs": [],
   "metadata": {}
  }
 ],
 "metadata": {
  "kernelspec": {
   "display_name": "Python 3 (ipykernel)",
   "language": "python",
   "name": "python3"
  },
  "language_info": {
   "name": "python",
   "version": "3.9.5",
   "mimetype": "text/x-python",
   "codemirror_mode": {
    "name": "ipython",
    "version": 3
   },
   "pygments_lexer": "ipython3",
   "nbconvert_exporter": "python",
   "file_extension": ".py"
  }
 },
 "nbformat": 4,
 "nbformat_minor": 5
}