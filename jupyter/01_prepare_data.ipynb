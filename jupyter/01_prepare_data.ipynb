{
 "cells": [
  {
   "cell_type": "code",
   "execution_count": 4,
   "id": "3bf4ca5c",
   "metadata": {},
   "outputs": [],
   "source": [
    "from pyspark.sql import SparkSession\n",
    "\n",
    "# Spark session & context\n",
    "spark = SparkSession.builder.master('local[2]').getOrCreate()\n",
    "sc = spark.sparkContext"
   ]
  },
  {
   "cell_type": "code",
   "execution_count": 21,
   "id": "ffc7877c",
   "metadata": {},
   "outputs": [],
   "source": [
    "import json\n",
    "import csv"
   ]
  },
  {
   "cell_type": "code",
   "execution_count": 22,
   "id": "65219bee",
   "metadata": {},
   "outputs": [],
   "source": [
    "jsonfile = open(\"data/price-ohlc.json\")\n",
    "bitcoin_price_ohlc_json = json.load(jsonfile)\n",
    "\n",
    "csvfile = open('data/price-ohlc.csv', 'w')\n",
    "writer = csv.writer(csvfile)\n",
    "writer.writerow(['time', 'open', 'high', 'low', 'close'])\n",
    "\n",
    "for row in bitcoin_price_ohlc_json:\n",
    "    writer.writerow([row['t'], row['o']['o'], row['o']['h'], row['o']['l'], row['o']['c']])\n",
    "\n",
    "csvfile.close()\n",
    "jsonfile.close()"
   ]
  },
  {
   "cell_type": "code",
   "execution_count": 24,
   "id": "4ed93838",
   "metadata": {},
   "outputs": [
    {
     "name": "stderr",
     "output_type": "stream",
     "text": [
      "[Stage 5:=============================>                             (1 + 1) / 2]\r"
     ]
    },
    {
     "name": "stdout",
     "output_type": "stream",
     "text": [
      "root\n",
      " |-- time: timestamp (nullable = true)\n",
      " |-- open: double (nullable = true)\n",
      " |-- high: double (nullable = true)\n",
      " |-- low: double (nullable = true)\n",
      " |-- close: double (nullable = true)\n",
      "\n"
     ]
    },
    {
     "name": "stderr",
     "output_type": "stream",
     "text": [
      "\r",
      "                                                                                \r"
     ]
    }
   ],
   "source": [
    "bitcoin_price_ohlc_DF = spark.read.csv(\"data/price-ohlc.csv\", inferSchema=True, header=True)\n",
    "bitcoin_price_ohlc_DF.printSchema()"
   ]
  },
  {
   "cell_type": "code",
   "execution_count": 25,
   "id": "d8780bb0",
   "metadata": {},
   "outputs": [
    {
     "name": "stdout",
     "output_type": "stream",
     "text": [
      "+-------------------+--------------------+--------------------+--------------------+--------------------+\n",
      "|               time|                open|                high|                 low|               close|\n",
      "+-------------------+--------------------+--------------------+--------------------+--------------------+\n",
      "|2010-07-17 23:00:00|0.049510000000000005|0.049510000000000005|0.049510000000000005|0.049510000000000005|\n",
      "|2010-07-18 00:00:00|                null|                null|                null|                null|\n",
      "|2010-07-18 01:00:00|                null|                null|                null|                null|\n",
      "|2010-07-18 02:00:00|                null|                null|                null|                null|\n",
      "|2010-07-18 03:00:00|             0.05941|             0.05941|             0.05941|             0.05941|\n",
      "|2010-07-18 04:00:00|             0.05941|             0.05941|             0.05941|             0.05941|\n",
      "|2010-07-18 05:00:00|             0.05941|             0.05941|             0.05941|             0.05941|\n",
      "|2010-07-18 06:00:00|             0.05941|             0.05941|             0.05941|             0.05941|\n",
      "|2010-07-18 07:00:00|             0.05941|             0.05941|             0.05941|             0.05941|\n",
      "|2010-07-18 08:00:00|             0.05941|             0.05941|             0.05941|             0.05941|\n",
      "|2010-07-18 09:00:00|             0.05941|             0.05941|             0.05941|             0.05941|\n",
      "|2010-07-18 10:00:00|             0.05941|             0.05941|             0.05941|             0.05941|\n",
      "|2010-07-18 11:00:00|             0.05941|             0.05941|             0.05941|             0.05941|\n",
      "|2010-07-18 12:00:00|             0.05941|             0.05941|             0.05941|             0.05941|\n",
      "|2010-07-18 13:00:00|             0.05941|             0.05941|             0.05941|             0.05941|\n",
      "|2010-07-18 14:00:00|             0.05941|             0.05941|             0.05941|             0.05941|\n",
      "|2010-07-18 15:00:00|             0.05941|             0.05941|             0.05941|             0.05941|\n",
      "|2010-07-18 16:00:00|             0.05941|             0.05941|             0.05941|             0.05941|\n",
      "|2010-07-18 17:00:00|             0.05941|              0.0808|             0.05941|              0.0808|\n",
      "|2010-07-18 18:00:00|              0.0808|              0.0808|              0.0808|              0.0808|\n",
      "+-------------------+--------------------+--------------------+--------------------+--------------------+\n",
      "only showing top 20 rows\n",
      "\n"
     ]
    }
   ],
   "source": [
    "bitcoin_price_ohlc_DF.show()"
   ]
  }
 ],
 "metadata": {
  "kernelspec": {
   "display_name": "Python 3 (ipykernel)",
   "language": "python",
   "name": "python3"
  },
  "language_info": {
   "codemirror_mode": {
    "name": "ipython",
    "version": 3
   },
   "file_extension": ".py",
   "mimetype": "text/x-python",
   "name": "python",
   "nbconvert_exporter": "python",
   "pygments_lexer": "ipython3",
   "version": "3.9.5"
  }
 },
 "nbformat": 4,
 "nbformat_minor": 5
}
