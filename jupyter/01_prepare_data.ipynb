{
 "cells": [
  {
   "cell_type": "code",
   "execution_count": 17,
   "source": [
    "from pyspark.sql import SparkSession\n",
    "\n",
    "# Spark session & context\n",
    "spark = SparkSession.builder.master('local[2]').getOrCreate()\n",
    "sc = spark.sparkContext"
   ],
   "outputs": [],
   "metadata": {}
  },
  {
   "cell_type": "code",
   "execution_count": 18,
   "source": [
    "import json\n",
    "import csv\n",
    "\n",
    "from datetime import datetime"
   ],
   "outputs": [],
   "metadata": {}
  },
  {
   "cell_type": "code",
   "execution_count": 22,
   "source": [
    "jsonfile = open(\"data/json/btc/price-ohlc.json\")\n",
    "bitcoin_price_ohlc_json = json.load(jsonfile)\n",
    "\n",
    "csvfile = open('data/btc/price-ohlc.csv', 'w')\n",
    "writer = csv.writer(csvfile)\n",
    "writer.writerow(['time', 'open', 'high', 'low', 'close'])\n",
    "\n",
    "for row in bitcoin_price_ohlc_json:\n",
    "    t = int(datetime.strptime(row['t'],\"%Y-%m-%dT%H:%M:%SZ\").timestamp())\n",
    "    writer.writerow([t, row['o']['o'], row['o']['h'], row['o']['l'], row['o']['c']])\n",
    "\n",
    "csvfile.close()\n",
    "jsonfile.close()"
   ],
   "outputs": [],
   "metadata": {}
  },
  {
   "cell_type": "code",
   "execution_count": 26,
   "source": [
    "jsonfile = open(\"data/json/btc/price.json\")\n",
    "bitcoin_price_json = json.load(jsonfile)\n",
    "\n",
    "csvfile = open('data/btc/price.csv', 'w')\n",
    "writer = csv.writer(csvfile)\n",
    "writer.writerow(['time', 'price'])\n",
    "\n",
    "for row in bitcoin_price_json:\n",
    "    t = int(datetime.strptime(row['t'],\"%Y-%m-%dT%H:%M:%SZ\").timestamp())\n",
    "    writer.writerow([t, row['v']])\n",
    "\n",
    "csvfile.close()\n",
    "jsonfile.close()"
   ],
   "outputs": [],
   "metadata": {}
  },
  {
   "cell_type": "code",
   "execution_count": 28,
   "source": [
    "filename = \"market-cap\"\n",
    "jsonfile = open(\"data/json/btc/%s.json\" % filename)\n",
    "json_data = json.load(jsonfile)\n",
    "\n",
    "csvfile = open('data/btc/%s.csv' % filename, 'w')\n",
    "writer = csv.writer(csvfile)\n",
    "writer.writerow(['time', 'marketcap'])\n",
    "\n",
    "for row in json_data:\n",
    "    t = int(datetime.strptime(row['t'],\"%Y-%m-%dT%H:%M:%SZ\").timestamp())\n",
    "    writer.writerow([t, row['v']])\n",
    "\n",
    "csvfile.close()\n",
    "jsonfile.close()"
   ],
   "outputs": [],
   "metadata": {}
  }
 ],
 "metadata": {
  "kernelspec": {
   "display_name": "Python 3 (ipykernel)",
   "language": "python",
   "name": "python3"
  },
  "language_info": {
   "name": "python",
   "version": "3.9.5",
   "mimetype": "text/x-python",
   "codemirror_mode": {
    "name": "ipython",
    "version": 3
   },
   "pygments_lexer": "ipython3",
   "nbconvert_exporter": "python",
   "file_extension": ".py"
  }
 },
 "nbformat": 4,
 "nbformat_minor": 5
}