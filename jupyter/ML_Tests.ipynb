{
 "cells": [
  {
   "cell_type": "code",
   "execution_count": 4,
   "id": "847b3b65",
   "metadata": {},
   "outputs": [],
   "source": [
    "from pyspark.sql import SparkSession\n",
    "\n",
    "# Spark session & context\n",
    "spark = SparkSession.builder.master('local[2]').getOrCreate()\n",
    "sc = spark.sparkContext"
   ]
  },
  {
   "cell_type": "code",
   "execution_count": 21,
   "id": "bcfde897",
   "metadata": {},
   "outputs": [],
   "source": [
    "import json\n",
    "import csv"
   ]
  },
  {
   "cell_type": "code",
   "execution_count": 22,
   "id": "3224ecbf",
   "metadata": {},
   "outputs": [],
   "source": [
    "jsonfile = open(\"data/price-ohlc.json\")\n",
    "bitcoin_price_ohlc_json = json.load(jsonfile)\n",
    "\n",
    "csvfile = open('data/price-ohlc.csv', 'w')\n",
    "writer = csv.writer(csvfile)\n",
    "writer.writerow(['time', 'open', 'high', 'low', 'close'])\n",
    "\n",
    "for row in bitcoin_price_ohlc_json:\n",
    "    writer.writerow([row['t'], row['o']['o'], row['o']['h'], row['o']['l'], row['o']['c']])\n",
    "\n",
    "csvfile.close()\n",
    "jsonfile.close()"
   ]
  },
  {
   "cell_type": "code",
   "execution_count": 19,
   "id": "87ad6af3",
   "metadata": {},
   "outputs": [
    {
     "data": {
      "text/plain": [
       "{'t': '2010-07-17T23:00:00Z',\n",
       " 'o': {'c': 0.049510000000000005,\n",
       "  'h': 0.049510000000000005,\n",
       "  'l': 0.049510000000000005,\n",
       "  'o': 0.049510000000000005}}"
      ]
     },
     "execution_count": 19,
     "metadata": {},
     "output_type": "execute_result"
    }
   ],
   "source": [
    "bitcoin_price_ohlc_json[0]"
   ]
  },
  {
   "cell_type": "code",
   "execution_count": 11,
   "id": "096dc1af",
   "metadata": {},
   "outputs": [
    {
     "name": "stdout",
     "output_type": "stream",
     "text": [
      "root\n",
      " |-- o: struct (nullable = true)\n",
      " |    |-- c: double (nullable = true)\n",
      " |    |-- h: double (nullable = true)\n",
      " |    |-- l: double (nullable = true)\n",
      " |    |-- o: double (nullable = true)\n",
      " |-- t: string (nullable = true)\n",
      "\n"
     ]
    }
   ],
   "source": [
    "price.printSchema()"
   ]
  }
 ],
 "metadata": {
  "kernelspec": {
   "display_name": "Python 3 (ipykernel)",
   "language": "python",
   "name": "python3"
  },
  "language_info": {
   "codemirror_mode": {
    "name": "ipython",
    "version": 3
   },
   "file_extension": ".py",
   "mimetype": "text/x-python",
   "name": "python",
   "nbconvert_exporter": "python",
   "pygments_lexer": "ipython3",
   "version": "3.9.5"
  }
 },
 "nbformat": 4,
 "nbformat_minor": 5
}
